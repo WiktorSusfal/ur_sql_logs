{
 "cells": [
  {
   "cell_type": "code",
   "execution_count": 16,
   "id": "3dd9d4ca",
   "metadata": {},
   "outputs": [],
   "source": [
    "def decorator(function):\n",
    "    def wrapper(*args, **kwargs):\n",
    "        i = 0\n",
    "        while True:\n",
    "            result = function(*args, **kwargs)\n",
    "            i+=1\n",
    "            if i > 10:\n",
    "                return\n",
    "    \n",
    "    return wrapper\n",
    "\n",
    "@decorator\n",
    "def ppprint():\n",
    "   \n",
    "        print('a')\n",
    "       "
   ]
  },
  {
   "cell_type": "code",
   "execution_count": 17,
   "id": "f2780009",
   "metadata": {},
   "outputs": [
    {
     "name": "stdout",
     "output_type": "stream",
     "text": [
      "a\n",
      "a\n",
      "a\n",
      "a\n",
      "a\n",
      "a\n",
      "a\n",
      "a\n",
      "a\n",
      "a\n",
      "a\n"
     ]
    }
   ],
   "source": [
    "ppprint()"
   ]
  },
  {
   "cell_type": "code",
   "execution_count": 22,
   "id": "c5a6f9cd",
   "metadata": {},
   "outputs": [],
   "source": [
    "from dataclasses import dataclass\n"
   ]
  },
  {
   "cell_type": "code",
   "execution_count": 24,
   "id": "79e55a86",
   "metadata": {},
   "outputs": [
    {
     "name": "stdout",
     "output_type": "stream",
     "text": [
      "True\n"
     ]
    }
   ],
   "source": [
    "@dataclass\n",
    "class A:\n",
    "    b: int = 0\n",
    "    c: str = 'abc'\n",
    "    \n",
    "    \n",
    "a1 = A(6, '7')\n",
    "a2 = A(6, '7')\n",
    "print(a1==a2)"
   ]
  },
  {
   "cell_type": "code",
   "execution_count": null,
   "id": "1a197bf4",
   "metadata": {},
   "outputs": [],
   "source": []
  }
 ],
 "metadata": {
  "kernelspec": {
   "display_name": "Python 3 (ipykernel)",
   "language": "python",
   "name": "python3"
  },
  "language_info": {
   "codemirror_mode": {
    "name": "ipython",
    "version": 3
   },
   "file_extension": ".py",
   "mimetype": "text/x-python",
   "name": "python",
   "nbconvert_exporter": "python",
   "pygments_lexer": "ipython3",
   "version": "3.10.2"
  }
 },
 "nbformat": 4,
 "nbformat_minor": 5
}
